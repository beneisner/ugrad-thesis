{
 "cells": [
  {
   "cell_type": "code",
   "execution_count": 1,
   "metadata": {
    "collapsed": true
   },
   "outputs": [],
   "source": [
    "%load_ext autoreload\n",
    "%autoreload 2\n",
    "\n",
    "import sys, os\n",
    "\n",
    "# Monkey with the path, so that we can import like rational humans\n",
    "try:\n",
    "    import deepseg as ds\n",
    "except:\n",
    "    sys.path.insert(0, os.path.abspath('./../../trace/'))\n",
    "    \n",
    "import trace.download_data as dd"
   ]
  },
  {
   "cell_type": "code",
   "execution_count": 2,
   "metadata": {
    "collapsed": true
   },
   "outputs": [],
   "source": [
    "def maybe_make_dir(folder):\n",
    "    if not os.path.exists(folder):\n",
    "        os.makedirs(folder)\n",
    "\n",
    "# # Define the results folder outside the original structure\n",
    "results_folder = './../../../datasets/'\n",
    "\n",
    "maybe_make_dir(results_folder)\n",
    "# maybe_make_dir(results_folder + 'isbi/')\n",
    "# maybe_make_dir(results_folder + 'snemi3d/')\n",
    "# maybe_make_dir(results_folder + 'cremi/')\n",
    "# maybe_make_dir(results_folder + 'cremi/a/')\n",
    "# maybe_make_dir(results_folder + 'cremi/b/')\n",
    "# maybe_make_dir(results_folder + 'cremi/c/')"
   ]
  },
  {
   "cell_type": "code",
   "execution_count": 3,
   "metadata": {},
   "outputs": [
    {
     "name": "stdout",
     "output_type": "stream",
     "text": [
      "./../../../datasets/snemi3d/train-input.zip Does not exist\n",
      "downloading http://brainiac2.mit.edu/SNEMI3D/sites/default/files/train-input.zip\n",
      "./../../../datasets/snemi3d/train-labels.zip Does not exist\n",
      "downloading http://brainiac2.mit.edu/SNEMI3D/sites/default/files/train-labels.zip\n",
      "./../../../datasets/snemi3d/test-input.zip Does not exist\n",
      "downloading http://brainiac2.mit.edu/SNEMI3D/sites/default/files/test-input.zip\n",
      "splitting train-input.tif into 75.0% training,  25.0% into validation\n",
      "./../../../datasets/snemi3d/train-input.tif\n",
      "./../../../datasets/snemi3d/train-labels.tif\n",
      "created train-input.h5\n",
      "created train-labels.h5\n",
      "created validation-input.h5\n",
      "created validation-labels.h5\n",
      "created test-input.h5\n",
      "./../../../datasets/isbi/train-input.tif Does not exist\n",
      "downloading http://brainiac2.mit.edu/isbi_challenge/sites/default/files/train-volume.tif\n",
      "./../../../datasets/isbi/train-labels.tif Does not exist\n",
      "downloading http://brainiac2.mit.edu/isbi_challenge/sites/default/files/train-labels.tif\n",
      "./../../../datasets/isbi/test-input.tif Does not exist\n",
      "downloading http://brainiac2.mit.edu/isbi_challenge/sites/default/files/test-volume.tif\n",
      "splitting train-input.tif into 75.0% training,  25.0% into validation\n",
      "./../../../datasets/isbi/train-input.tif\n",
      "./../../../datasets/isbi/train-labels.tif\n",
      "created train-input.h5\n",
      "created train-labels.h5\n",
      "created validation-input.h5\n",
      "created validation-labels.h5\n",
      "created test-input.h5\n",
      "./../../../datasets/cremi/a/train-full.hdf Does not exist\n",
      "downloading https://cremi.org/static/data/sample_A_20160501.hdf\n",
      "./../../../datasets/cremi/a/test.hdf Does not exist\n",
      "downloading https://cremi.org/static/data/sample_A%2B_20160601.hdf\n",
      "./../../../datasets/cremi/b/train-full.hdf Does not exist\n",
      "downloading https://cremi.org/static/data/sample_B_20160501.hdf\n",
      "./../../../datasets/cremi/b/test.hdf Does not exist\n",
      "downloading https://cremi.org/static/data/sample_B%2B_20160601.hdf\n",
      "./../../../datasets/cremi/c/train-full.hdf Does not exist\n",
      "downloading https://cremi.org/static/data/sample_C_20160501.hdf\n",
      "./../../../datasets/cremi/c/test.hdf Does not exist\n",
      "downloading https://cremi.org/static/data/sample_C%2B_20160601.hdf\n",
      "splitting ./../../../datasets/cremi/a/train-full.hdf into 80.0% training,  20.0% into validation, and adding borders\n",
      "splitting ./../../../datasets/cremi/b/train-full.hdf into 80.0% training,  20.0% into validation, and adding borders\n",
      "splitting ./../../../datasets/cremi/c/train-full.hdf into 80.0% training,  20.0% into validation, and adding borders\n"
     ]
    }
   ],
   "source": [
    "dd.maybe_create_all_datasets(results_folder, 0.75)"
   ]
  },
  {
   "cell_type": "code",
   "execution_count": 4,
   "metadata": {
    "collapsed": true
   },
   "outputs": [],
   "source": [
    "import cremi"
   ]
  },
  {
   "cell_type": "code",
   "execution_count": 11,
   "metadata": {
    "collapsed": true
   },
   "outputs": [],
   "source": [
    "import cremi.evaluation as cremival"
   ]
  },
  {
   "cell_type": "code",
   "execution_count": 12,
   "metadata": {},
   "outputs": [
    {
     "ename": "AttributeError",
     "evalue": "'module' object has no attribute 'io'",
     "output_type": "error",
     "traceback": [
      "\u001b[0;31m---------------------------------------------------------------------------\u001b[0m",
      "\u001b[0;31mAttributeError\u001b[0m                            Traceback (most recent call last)",
      "\u001b[0;32m<ipython-input-12-bcb5fff32f07>\u001b[0m in \u001b[0;36m<module>\u001b[0;34m()\u001b[0m\n\u001b[0;32m----> 1\u001b[0;31m \u001b[0;32mimport\u001b[0m \u001b[0mcremi\u001b[0m\u001b[0;34m.\u001b[0m\u001b[0mio\u001b[0m \u001b[0;32mas\u001b[0m \u001b[0mcrio\u001b[0m\u001b[0;34m\u001b[0m\u001b[0m\n\u001b[0m",
      "\u001b[0;31mAttributeError\u001b[0m: 'module' object has no attribute 'io'"
     ]
    }
   ],
   "source": [
    "import cremi.io as crio"
   ]
  },
  {
   "cell_type": "code",
   "execution_count": 6,
   "metadata": {
    "collapsed": true
   },
   "outputs": [],
   "source": [
    "from trace.thirdparty.segascorus import io_utils"
   ]
  },
  {
   "cell_type": "code",
   "execution_count": null,
   "metadata": {
    "collapsed": true
   },
   "outputs": [],
   "source": []
  }
 ],
 "metadata": {
  "kernelspec": {
   "display_name": "Python 2",
   "language": "python",
   "name": "python2"
  },
  "language_info": {
   "codemirror_mode": {
    "name": "ipython",
    "version": 2
   },
   "file_extension": ".py",
   "mimetype": "text/x-python",
   "name": "python",
   "nbconvert_exporter": "python",
   "pygments_lexer": "ipython2",
   "version": "2.7.12"
  }
 },
 "nbformat": 4,
 "nbformat_minor": 1
}
