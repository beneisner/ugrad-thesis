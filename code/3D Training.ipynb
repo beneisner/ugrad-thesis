{
 "cells": [
  {
   "cell_type": "markdown",
   "metadata": {},
   "source": [
    "# Setup"
   ]
  },
  {
   "cell_type": "code",
   "execution_count": 1,
   "metadata": {},
   "outputs": [],
   "source": [
    "%load_ext autoreload\n",
    "%autoreload 2\n",
    "\n",
    "# Monkey with the path, so that we can import like rational humans\n",
    "try:\n",
    "    import deepseg as ds\n",
    "except:\n",
    "    import sys, os\n",
    "    sys.path.insert(0, os.path.abspath('./../../trace/'))\n",
    "\n",
    "import tensorflow as tf\n",
    "import numpy as np\n",
    "import pandas\n",
    "\n",
    "import trace.common as com\n",
    "import trace.sampling as samp\n",
    "import trace.dataset as dat\n",
    "import trace.train as train\n",
    "import trace.models as mod\n",
    "import trace.train.hooks as hooks\n",
    "import trace.evaluation as eva\n",
    "\n",
    "from common import showarray, get_metrics, print_and_save_metrics, load_classifier, run_full_training"
   ]
  },
  {
   "cell_type": "code",
   "execution_count": 2,
   "metadata": {
    "collapsed": true
   },
   "outputs": [],
   "source": [
    "dataset_folder = './../../../datasets/'\n",
    "# Dataframe with results\n",
    "df_snemi = pandas.DataFrame(index=['VD2D-3D', 'UVR-Net'],\n",
    "                            columns=['Pixel Error', 'Rand - Full', 'Rand - Merge', 'Rand - Split'])\n",
    "\n",
    "df_cremi_a = pandas.DataFrame(index=['VD2D-3D', 'UVR-Net'], \n",
    "                              columns=['Pixel Error', 'Rand - Full', 'Rand - Merge', 'Rand - Split'])\n",
    "\n",
    "df_cremi_b = pandas.DataFrame(index=['VD2D-3D', 'UVR-Net'], \n",
    "                              columns=['Pixel Error', 'Rand - Full', 'Rand - Merge', 'Rand - Split'])\n",
    "\n",
    "df_cremi_c = pandas.DataFrame(index=['VD2D-3D', 'UVR-Net'], \n",
    "                              columns=['Pixel Error', 'Rand - Full', 'Rand - Merge', 'Rand - Split'])"
   ]
  },
  {
   "cell_type": "markdown",
   "metadata": {},
   "source": [
    "# Model Training"
   ]
  },
  {
   "cell_type": "markdown",
   "metadata": {},
   "source": [
    "## SNEMI3D"
   ]
  },
  {
   "cell_type": "markdown",
   "metadata": {},
   "source": [
    "### VD2D-3D"
   ]
  },
  {
   "cell_type": "code",
   "execution_count": 7,
   "metadata": {
    "collapsed": true
   },
   "outputs": [],
   "source": [
    "tf.reset_default_graph()"
   ]
  },
  {
   "cell_type": "code",
   "execution_count": 8,
   "metadata": {
    "collapsed": true
   },
   "outputs": [],
   "source": [
    "pipeline = com.PipelineConfig(\n",
    "    data_path=dataset_folder + '/snemi3d/',\n",
    "    dataset_constructor=dat.SNEMI3DDataset,\n",
    "    model_constructor=mod.ConvNet,\n",
    "    augmentation_config=com.AugmentationConfig(\n",
    "        apply_mirroring=True, \n",
    "        apply_flipping=True, \n",
    "        apply_rotation=True, \n",
    "        apply_blur=True\n",
    "    ),\n",
    "    model_arch=mod.VD2D_3D,\n",
    "    training_params=com.TrainingParams(\n",
    "        optimizer=tf.train.AdamOptimizer,\n",
    "        learning_rate=0.0001,\n",
    "        n_iterations=30000,\n",
    "        patch_shape=(16, 160, 160),\n",
    "        batch_size=1\n",
    "    ),\n",
    "    inference_params=com.InferenceParams(\n",
    "        patch_shape=(16, 160, 160)\n",
    "    ),\n",
    "    pipeline_name='vd2d_3d'\n",
    ")\n"
   ]
  },
  {
   "cell_type": "code",
   "execution_count": 9,
   "metadata": {},
   "outputs": [
    {
     "name": "stdout",
     "output_type": "stream",
     "text": [
      "INFO:tensorflow:Restoring parameters from ./../../../datasets//snemi3d/results/vd2d_3d/run-1/model.ckpt\n",
      "Model restored.\n"
     ]
    }
   ],
   "source": [
    "# classifier, dset_sampler = run_full_training(pipeline, run_name='1')\n",
    "classifier, dset_sampler = load_classifier(pipeline, run_name='1')"
   ]
  },
  {
   "cell_type": "code",
   "execution_count": 10,
   "metadata": {
    "scrolled": true
   },
   "outputs": [
    {
     "name": "stdout",
     "output_type": "stream",
     "text": [
      "z=0, y=0, x=0\n",
      "z=0, y=0, x=160\n",
      "z=0, y=0, x=320\n",
      "z=0, y=0, x=480\n",
      "z=0, y=0, x=640\n",
      "z=0, y=0, x=800\n",
      "z=0, y=0, x=960\n",
      "z=0, y=160, x=0\n",
      "z=0, y=160, x=160\n",
      "z=0, y=160, x=320\n",
      "z=0, y=160, x=480\n",
      "z=0, y=160, x=640\n",
      "z=0, y=160, x=800\n",
      "z=0, y=160, x=960\n",
      "z=0, y=320, x=0\n",
      "z=0, y=320, x=160\n",
      "z=0, y=320, x=320\n",
      "z=0, y=320, x=480\n",
      "z=0, y=320, x=640\n",
      "z=0, y=320, x=800\n",
      "z=0, y=320, x=960\n",
      "z=0, y=480, x=0\n",
      "z=0, y=480, x=160\n",
      "z=0, y=480, x=320\n",
      "z=0, y=480, x=480\n",
      "z=0, y=480, x=640\n",
      "z=0, y=480, x=800\n",
      "z=0, y=480, x=960\n",
      "z=0, y=640, x=0\n",
      "z=0, y=640, x=160\n",
      "z=0, y=640, x=320\n",
      "z=0, y=640, x=480\n",
      "z=0, y=640, x=640\n",
      "z=0, y=640, x=800\n",
      "z=0, y=640, x=960\n",
      "z=0, y=800, x=0\n",
      "z=0, y=800, x=160\n",
      "z=0, y=800, x=320\n",
      "z=0, y=800, x=480\n",
      "z=0, y=800, x=640\n",
      "z=0, y=800, x=800\n",
      "z=0, y=800, x=960\n",
      "z=0, y=960, x=0\n",
      "z=0, y=960, x=160\n",
      "z=0, y=960, x=320\n",
      "z=0, y=960, x=480\n",
      "z=0, y=960, x=640\n",
      "z=0, y=960, x=800\n",
      "z=0, y=960, x=960\n",
      "z=16, y=0, x=0\n",
      "z=16, y=0, x=160\n",
      "z=16, y=0, x=320\n",
      "z=16, y=0, x=480\n",
      "z=16, y=0, x=640\n",
      "z=16, y=0, x=800\n",
      "z=16, y=0, x=960\n",
      "z=16, y=160, x=0\n",
      "z=16, y=160, x=160\n",
      "z=16, y=160, x=320\n",
      "z=16, y=160, x=480\n",
      "z=16, y=160, x=640\n",
      "z=16, y=160, x=800\n",
      "z=16, y=160, x=960\n",
      "z=16, y=320, x=0\n",
      "z=16, y=320, x=160\n",
      "z=16, y=320, x=320\n",
      "z=16, y=320, x=480\n",
      "z=16, y=320, x=640\n",
      "z=16, y=320, x=800\n",
      "z=16, y=320, x=960\n",
      "z=16, y=480, x=0\n",
      "z=16, y=480, x=160\n",
      "z=16, y=480, x=320\n",
      "z=16, y=480, x=480\n",
      "z=16, y=480, x=640\n",
      "z=16, y=480, x=800\n",
      "z=16, y=480, x=960\n",
      "z=16, y=640, x=0\n",
      "z=16, y=640, x=160\n",
      "z=16, y=640, x=320\n",
      "z=16, y=640, x=480\n",
      "z=16, y=640, x=640\n",
      "z=16, y=640, x=800\n",
      "z=16, y=640, x=960\n",
      "z=16, y=800, x=0\n",
      "z=16, y=800, x=160\n",
      "z=16, y=800, x=320\n",
      "z=16, y=800, x=480\n",
      "z=16, y=800, x=640\n",
      "z=16, y=800, x=800\n",
      "z=16, y=800, x=960\n",
      "z=16, y=960, x=0\n",
      "z=16, y=960, x=160\n",
      "z=16, y=960, x=320\n",
      "z=16, y=960, x=480\n",
      "z=16, y=960, x=640\n",
      "z=16, y=960, x=800\n",
      "z=16, y=960, x=960\n",
      "(24, 1023, 1023)\n",
      "Begin segmentation\n",
      "Segmentation complete\n",
      "Performing foreground-restriction\n",
      "Finding overlap matrix...\n",
      "Completed in 4.560985 seconds\n",
      "Calculating Rand F-Score...\n",
      "Completed in 0.108050 seconds\n",
      "VD2D-3D\n",
      "Pixel Error: 0.102204\n",
      "Rand - Full: 0.790909\n",
      "Rand - Merge: 0.951960\n",
      "Rand - Split: 0.676465\n"
     ]
    }
   ],
   "source": [
    "# Compute metrics on the validation set\n",
    "val_inputs, val_labels, val_target = dset_sampler.get_validation_set()\n",
    "preds, p_error, rand_full, rand_merge, rand_split = get_metrics(pipeline, classifier, val_inputs, val_labels, val_target)\n",
    "print_and_save_metrics('VD2D-3D', df_snemi, p_error, rand_full, rand_merge, rand_split)"
   ]
  },
  {
   "cell_type": "markdown",
   "metadata": {},
   "source": [
    "### U-Net"
   ]
  },
  {
   "cell_type": "code",
   "execution_count": 3,
   "metadata": {
    "collapsed": true
   },
   "outputs": [],
   "source": [
    "tf.reset_default_graph()"
   ]
  },
  {
   "cell_type": "code",
   "execution_count": 4,
   "metadata": {
    "collapsed": true
   },
   "outputs": [],
   "source": [
    "pipeline = com.PipelineConfig(\n",
    "    data_path=dataset_folder + '/snemi3d/',\n",
    "    dataset_constructor=dat.SNEMI3DDataset,\n",
    "    model_constructor=mod.UNet,\n",
    "    augmentation_config=com.AugmentationConfig(\n",
    "        apply_mirroring=True, \n",
    "        apply_flipping=True, \n",
    "        apply_rotation=True, \n",
    "        apply_blur=True\n",
    "    ),\n",
    "    model_arch=mod.UNET_3D_4LAYERS,\n",
    "    training_params=com.TrainingParams(\n",
    "        optimizer=tf.train.AdamOptimizer,\n",
    "        learning_rate=0.0001,\n",
    "        n_iterations=30000,\n",
    "        patch_shape=(16, 160, 160),\n",
    "        batch_size=1\n",
    "    ),\n",
    "    inference_params=com.InferenceParams(\n",
    "        patch_shape=(16, 160, 160)\n",
    "    ),\n",
    "    pipeline_name='unet-3d-4layers'\n",
    ")"
   ]
  },
  {
   "cell_type": "code",
   "execution_count": 5,
   "metadata": {
    "scrolled": true
   },
   "outputs": [
    {
     "name": "stdout",
     "output_type": "stream",
     "text": [
      "INFO:tensorflow:Restoring parameters from ./../../../datasets//snemi3d/results/unet_3d_4layers/run-2/model.ckpt\n",
      "Model restored.\n"
     ]
    }
   ],
   "source": [
    "# classifier, dset_sampler = run_full_training(pipeline, run_name='2')\n",
    "classifier, dset_sampler = load_classifier(pipeline, run_name='2')"
   ]
  },
  {
   "cell_type": "code",
   "execution_count": 6,
   "metadata": {},
   "outputs": [
    {
     "name": "stdout",
     "output_type": "stream",
     "text": [
      "z: 0/24\n",
      "y: 0/1023\n",
      "y: 150/1023\n",
      "y: 300/1023\n",
      "y: 450/1023\n",
      "y: 600/1023\n",
      "y: 750/1023\n",
      "y: 863/1023\n",
      "z: 8/24\n",
      "y: 0/1023\n",
      "y: 150/1023\n",
      "y: 300/1023\n",
      "y: 450/1023\n",
      "y: 600/1023\n",
      "y: 750/1023\n",
      "y: 863/1023\n",
      "(24, 1023, 1023)\n",
      "Begin segmentation\n",
      "Segmentation complete\n",
      "Performing foreground-restriction\n",
      "Finding overlap matrix...\n",
      "Completed in 4.578804 seconds\n",
      "Calculating Rand F-Score...\n",
      "Completed in 0.077447 seconds\n",
      "UVR-Net\n",
      "Pixel Error: 0.086327\n",
      "Rand - Full: 0.783288\n",
      "Rand - Merge: 0.993469\n",
      "Rand - Split: 0.646511\n"
     ]
    }
   ],
   "source": [
    "# Compute metrics on the validation set\n",
    "val_inputs, val_labels, val_target = dset_sampler.get_validation_set()\n",
    "preds, p_error, rand_full, rand_merge, rand_split = get_metrics(pipeline, classifier, val_inputs, val_labels, val_target)\n",
    "print_and_save_metrics('UVR-Net', df_snemi, p_error, rand_full, rand_merge, rand_split)"
   ]
  },
  {
   "cell_type": "markdown",
   "metadata": {},
   "source": [
    "## CREMI"
   ]
  },
  {
   "cell_type": "markdown",
   "metadata": {},
   "source": [
    "### CREMI A Unaligned, with VD2D-3D"
   ]
  },
  {
   "cell_type": "code",
   "execution_count": 44,
   "metadata": {
    "collapsed": true
   },
   "outputs": [],
   "source": [
    "tf.reset_default_graph()"
   ]
  },
  {
   "cell_type": "code",
   "execution_count": 45,
   "metadata": {
    "collapsed": true
   },
   "outputs": [],
   "source": [
    "pipeline = com.PipelineConfig(\n",
    "    data_path=dataset_folder + '/cremi/a/',\n",
    "    dataset_constructor=dat.CREMIDataset,\n",
    "    model_constructor=mod.ConvNet,\n",
    "    augmentation_config=com.AugmentationConfig(\n",
    "        apply_mirroring=True, \n",
    "        apply_flipping=True, \n",
    "        apply_rotation=True, \n",
    "        apply_blur=True\n",
    "    ),\n",
    "    model_arch=mod.VD2D_3D,\n",
    "    training_params=com.TrainingParams(\n",
    "        optimizer=tf.train.AdamOptimizer,\n",
    "        learning_rate=0.0001,\n",
    "        n_iterations=30000,\n",
    "        patch_shape=(16, 160, 160),\n",
    "        batch_size=1\n",
    "    ),\n",
    "    inference_params=com.InferenceParams(\n",
    "        patch_shape=(16, 160, 160)\n",
    "    ),\n",
    "    pipeline_name='vd2d-3d'\n",
    ")"
   ]
  },
  {
   "cell_type": "code",
   "execution_count": 46,
   "metadata": {},
   "outputs": [
    {
     "name": "stdout",
     "output_type": "stream",
     "text": [
      "INFO:tensorflow:Restoring parameters from ./../../../datasets//cremi/a/results/vd2d_3d/run-1/model.ckpt\n",
      "Model restored.\n"
     ]
    }
   ],
   "source": [
    "# classifier, dset_sampler = run_full_training(pipeline, run_name='1')\n",
    "classifier, dset_sampler = load_classifier(pipeline, run_name='1')"
   ]
  },
  {
   "cell_type": "code",
   "execution_count": 47,
   "metadata": {},
   "outputs": [
    {
     "name": "stdout",
     "output_type": "stream",
     "text": [
      "z=0, y=0, x=0\n",
      "z=0, y=0, x=160\n",
      "z=0, y=0, x=320\n",
      "z=0, y=0, x=480\n",
      "z=0, y=0, x=640\n",
      "z=0, y=0, x=800\n",
      "z=0, y=0, x=960\n",
      "z=0, y=0, x=1120\n",
      "z=0, y=160, x=0\n",
      "z=0, y=160, x=160\n",
      "z=0, y=160, x=320\n",
      "z=0, y=160, x=480\n",
      "z=0, y=160, x=640\n",
      "z=0, y=160, x=800\n",
      "z=0, y=160, x=960\n",
      "z=0, y=160, x=1120\n",
      "z=0, y=320, x=0\n",
      "z=0, y=320, x=160\n",
      "z=0, y=320, x=320\n",
      "z=0, y=320, x=480\n",
      "z=0, y=320, x=640\n",
      "z=0, y=320, x=800\n",
      "z=0, y=320, x=960\n",
      "z=0, y=320, x=1120\n",
      "z=0, y=480, x=0\n",
      "z=0, y=480, x=160\n",
      "z=0, y=480, x=320\n",
      "z=0, y=480, x=480\n",
      "z=0, y=480, x=640\n",
      "z=0, y=480, x=800\n",
      "z=0, y=480, x=960\n",
      "z=0, y=480, x=1120\n",
      "z=0, y=640, x=0\n",
      "z=0, y=640, x=160\n",
      "z=0, y=640, x=320\n",
      "z=0, y=640, x=480\n",
      "z=0, y=640, x=640\n",
      "z=0, y=640, x=800\n",
      "z=0, y=640, x=960\n",
      "z=0, y=640, x=1120\n",
      "z=0, y=800, x=0\n",
      "z=0, y=800, x=160\n",
      "z=0, y=800, x=320\n",
      "z=0, y=800, x=480\n",
      "z=0, y=800, x=640\n",
      "z=0, y=800, x=800\n",
      "z=0, y=800, x=960\n",
      "z=0, y=800, x=1120\n",
      "z=0, y=960, x=0\n",
      "z=0, y=960, x=160\n",
      "z=0, y=960, x=320\n",
      "z=0, y=960, x=480\n",
      "z=0, y=960, x=640\n",
      "z=0, y=960, x=800\n",
      "z=0, y=960, x=960\n",
      "z=0, y=960, x=1120\n",
      "z=0, y=1120, x=0\n",
      "z=0, y=1120, x=160\n",
      "z=0, y=1120, x=320\n",
      "z=0, y=1120, x=480\n",
      "z=0, y=1120, x=640\n",
      "z=0, y=1120, x=800\n",
      "z=0, y=1120, x=960\n",
      "z=0, y=1120, x=1120\n",
      "z=16, y=0, x=0\n",
      "z=16, y=0, x=160\n",
      "z=16, y=0, x=320\n",
      "z=16, y=0, x=480\n",
      "z=16, y=0, x=640\n",
      "z=16, y=0, x=800\n",
      "z=16, y=0, x=960\n",
      "z=16, y=0, x=1120\n",
      "z=16, y=160, x=0\n",
      "z=16, y=160, x=160\n",
      "z=16, y=160, x=320\n",
      "z=16, y=160, x=480\n",
      "z=16, y=160, x=640\n",
      "z=16, y=160, x=800\n",
      "z=16, y=160, x=960\n",
      "z=16, y=160, x=1120\n",
      "z=16, y=320, x=0\n",
      "z=16, y=320, x=160\n",
      "z=16, y=320, x=320\n",
      "z=16, y=320, x=480\n",
      "z=16, y=320, x=640\n",
      "z=16, y=320, x=800\n",
      "z=16, y=320, x=960\n",
      "z=16, y=320, x=1120\n",
      "z=16, y=480, x=0\n",
      "z=16, y=480, x=160\n",
      "z=16, y=480, x=320\n",
      "z=16, y=480, x=480\n",
      "z=16, y=480, x=640\n",
      "z=16, y=480, x=800\n",
      "z=16, y=480, x=960\n",
      "z=16, y=480, x=1120\n",
      "z=16, y=640, x=0\n",
      "z=16, y=640, x=160\n",
      "z=16, y=640, x=320\n",
      "z=16, y=640, x=480\n",
      "z=16, y=640, x=640\n",
      "z=16, y=640, x=800\n",
      "z=16, y=640, x=960\n",
      "z=16, y=640, x=1120\n",
      "z=16, y=800, x=0\n",
      "z=16, y=800, x=160\n",
      "z=16, y=800, x=320\n",
      "z=16, y=800, x=480\n",
      "z=16, y=800, x=640\n",
      "z=16, y=800, x=800\n",
      "z=16, y=800, x=960\n",
      "z=16, y=800, x=1120\n",
      "z=16, y=960, x=0\n",
      "z=16, y=960, x=160\n",
      "z=16, y=960, x=320\n",
      "z=16, y=960, x=480\n",
      "z=16, y=960, x=640\n",
      "z=16, y=960, x=800\n",
      "z=16, y=960, x=960\n",
      "z=16, y=960, x=1120\n",
      "z=16, y=1120, x=0\n",
      "z=16, y=1120, x=160\n",
      "z=16, y=1120, x=320\n",
      "z=16, y=1120, x=480\n",
      "z=16, y=1120, x=640\n",
      "z=16, y=1120, x=800\n",
      "z=16, y=1120, x=960\n",
      "z=16, y=1120, x=1120\n",
      "(24, 1249, 1249)\n",
      "Begin segmentation\n",
      "Segmentation complete\n",
      "Performing foreground-restriction\n",
      "Finding overlap matrix...\n",
      "Completed in 7.546440 seconds\n",
      "Calculating Rand F-Score...\n",
      "Completed in 0.192858 seconds\n",
      "VD2D-3D\n",
      "Pixel Error: 0.098559\n",
      "Rand - Full: 0.651105\n",
      "Rand - Merge: 0.981541\n",
      "Rand - Split: 0.487117\n"
     ]
    }
   ],
   "source": [
    "# Compute metrics on the validation set\n",
    "val_inputs, val_labels, val_target = dset_sampler.get_validation_set()\n",
    "preds, p_error, rand_full, rand_merge, rand_split = get_metrics(pipeline, classifier, val_inputs, val_labels, val_target)\n",
    "print_and_save_metrics('VD2D-3D', df_cremi_a, p_error, rand_full, rand_merge, rand_split)"
   ]
  },
  {
   "cell_type": "markdown",
   "metadata": {},
   "source": [
    "### CREMI A Unaligned, with U-Net 3D"
   ]
  },
  {
   "cell_type": "code",
   "execution_count": 23,
   "metadata": {
    "collapsed": true
   },
   "outputs": [],
   "source": [
    "tf.reset_default_graph()"
   ]
  },
  {
   "cell_type": "code",
   "execution_count": 24,
   "metadata": {
    "collapsed": true
   },
   "outputs": [],
   "source": [
    "pipeline = com.PipelineConfig(\n",
    "    data_path=dataset_folder + '/cremi/a/',\n",
    "    dataset_constructor=dat.CREMIDataset,\n",
    "    model_constructor=mod.UNet,\n",
    "    augmentation_config=com.AugmentationConfig(\n",
    "        apply_mirroring=True, \n",
    "        apply_flipping=True, \n",
    "        apply_rotation=True, \n",
    "        apply_blur=True\n",
    "    ),\n",
    "    model_arch=mod.UNET_3D_4LAYERS,\n",
    "    training_params=com.TrainingParams(\n",
    "        optimizer=tf.train.AdamOptimizer,\n",
    "        learning_rate=0.0001,\n",
    "        n_iterations=30000,\n",
    "        patch_shape=(16, 160, 160),\n",
    "        batch_size=1\n",
    "    ),\n",
    "    inference_params=com.InferenceParams(\n",
    "        patch_shape=(16, 160, 160)\n",
    "    ),\n",
    "    pipeline_name='unet-3d-4layers'\n",
    ")"
   ]
  },
  {
   "cell_type": "code",
   "execution_count": 25,
   "metadata": {},
   "outputs": [
    {
     "name": "stdout",
     "output_type": "stream",
     "text": [
      "INFO:tensorflow:Restoring parameters from ./../../../datasets//cremi/a/results/unet_3d_4layers/run-2/model.ckpt\n",
      "Model restored.\n"
     ]
    }
   ],
   "source": [
    "# classifier, dset_sampler = run_full_training(pipeline, run_name='1')\n",
    "classifier, dset_sampler = load_classifier(pipeline, run_name='2')"
   ]
  },
  {
   "cell_type": "code",
   "execution_count": 26,
   "metadata": {},
   "outputs": [
    {
     "name": "stdout",
     "output_type": "stream",
     "text": [
      "z: 0/24\n",
      "y: 0/1249\n",
      "y: 150/1249\n",
      "y: 300/1249\n",
      "y: 450/1249\n",
      "y: 600/1249\n",
      "y: 750/1249\n",
      "y: 900/1249\n",
      "y: 1050/1249\n",
      "y: 1089/1249\n",
      "z: 8/24\n",
      "y: 0/1249\n",
      "y: 150/1249\n",
      "y: 300/1249\n",
      "y: 450/1249\n",
      "y: 600/1249\n",
      "y: 750/1249\n",
      "y: 900/1249\n",
      "y: 1050/1249\n",
      "y: 1089/1249\n",
      "(24, 1249, 1249)\n",
      "Begin segmentation\n",
      "Segmentation complete\n",
      "Performing foreground-restriction\n",
      "Finding overlap matrix...\n",
      "Completed in 7.531078 seconds\n",
      "Calculating Rand F-Score...\n",
      "Completed in 0.029199 seconds\n",
      "UVR-Net\n",
      "Pixel Error: 0.034879\n",
      "Rand - Full: 0.576646\n",
      "Rand - Merge: 0.449545\n",
      "Rand - Split: 0.803948\n"
     ]
    }
   ],
   "source": [
    "# Compute metrics on the validation set\n",
    "val_inputs, val_labels, val_target = dset_sampler.get_validation_set()\n",
    "preds, p_error, rand_full, rand_merge, rand_split = get_metrics(pipeline, classifier, val_inputs, val_labels, val_target)\n",
    "print_and_save_metrics('UVR-Net', df_cremi_a, p_error, rand_full, rand_merge, rand_split)"
   ]
  },
  {
   "cell_type": "markdown",
   "metadata": {},
   "source": [
    "### Cremi B unaligned, VD2D-3D"
   ]
  },
  {
   "cell_type": "code",
   "execution_count": 40,
   "metadata": {
    "collapsed": true
   },
   "outputs": [],
   "source": [
    "tf.reset_default_graph()"
   ]
  },
  {
   "cell_type": "code",
   "execution_count": 41,
   "metadata": {
    "collapsed": true
   },
   "outputs": [],
   "source": [
    "pipeline = com.PipelineConfig(\n",
    "    data_path=dataset_folder + '/cremi/b/',\n",
    "    dataset_constructor=dat.CREMIDataset,\n",
    "    model_constructor=mod.ConvNet,\n",
    "    augmentation_config=com.AugmentationConfig(\n",
    "        apply_mirroring=True, \n",
    "        apply_flipping=True, \n",
    "        apply_rotation=True, \n",
    "        apply_blur=True\n",
    "    ),\n",
    "    model_arch=mod.VD2D_3D,\n",
    "    training_params=com.TrainingParams(\n",
    "        optimizer=tf.train.AdamOptimizer,\n",
    "        learning_rate=0.0001,\n",
    "        n_iterations=30000,\n",
    "        patch_shape=(16, 160, 160),\n",
    "        batch_size=1\n",
    "    ),\n",
    "    inference_params=com.InferenceParams(\n",
    "        patch_shape=(16, 160, 160)\n",
    "    ),\n",
    "    pipeline_name='vd2d-3d'\n",
    ")"
   ]
  },
  {
   "cell_type": "code",
   "execution_count": 42,
   "metadata": {},
   "outputs": [
    {
     "name": "stdout",
     "output_type": "stream",
     "text": [
      "INFO:tensorflow:Restoring parameters from ./../../../datasets//cremi/b/results/vd2d_3d/run-1/model.ckpt\n",
      "Model restored.\n"
     ]
    }
   ],
   "source": [
    "# classifier, dset_sampler = run_full_training(pipeline, run_name='1')\n",
    "classifier, dset_sampler = load_classifier(pipeline, run_name='1')"
   ]
  },
  {
   "cell_type": "code",
   "execution_count": 43,
   "metadata": {},
   "outputs": [
    {
     "name": "stdout",
     "output_type": "stream",
     "text": [
      "z=0, y=0, x=0\n",
      "z=0, y=0, x=160\n",
      "z=0, y=0, x=320\n",
      "z=0, y=0, x=480\n",
      "z=0, y=0, x=640\n",
      "z=0, y=0, x=800\n",
      "z=0, y=0, x=960\n",
      "z=0, y=0, x=1120\n",
      "z=0, y=160, x=0\n",
      "z=0, y=160, x=160\n",
      "z=0, y=160, x=320\n",
      "z=0, y=160, x=480\n",
      "z=0, y=160, x=640\n",
      "z=0, y=160, x=800\n",
      "z=0, y=160, x=960\n",
      "z=0, y=160, x=1120\n",
      "z=0, y=320, x=0\n",
      "z=0, y=320, x=160\n",
      "z=0, y=320, x=320\n",
      "z=0, y=320, x=480\n",
      "z=0, y=320, x=640\n",
      "z=0, y=320, x=800\n",
      "z=0, y=320, x=960\n",
      "z=0, y=320, x=1120\n",
      "z=0, y=480, x=0\n",
      "z=0, y=480, x=160\n",
      "z=0, y=480, x=320\n",
      "z=0, y=480, x=480\n",
      "z=0, y=480, x=640\n",
      "z=0, y=480, x=800\n",
      "z=0, y=480, x=960\n",
      "z=0, y=480, x=1120\n",
      "z=0, y=640, x=0\n",
      "z=0, y=640, x=160\n",
      "z=0, y=640, x=320\n",
      "z=0, y=640, x=480\n",
      "z=0, y=640, x=640\n",
      "z=0, y=640, x=800\n",
      "z=0, y=640, x=960\n",
      "z=0, y=640, x=1120\n",
      "z=0, y=800, x=0\n",
      "z=0, y=800, x=160\n",
      "z=0, y=800, x=320\n",
      "z=0, y=800, x=480\n",
      "z=0, y=800, x=640\n",
      "z=0, y=800, x=800\n",
      "z=0, y=800, x=960\n",
      "z=0, y=800, x=1120\n",
      "z=0, y=960, x=0\n",
      "z=0, y=960, x=160\n",
      "z=0, y=960, x=320\n",
      "z=0, y=960, x=480\n",
      "z=0, y=960, x=640\n",
      "z=0, y=960, x=800\n",
      "z=0, y=960, x=960\n",
      "z=0, y=960, x=1120\n",
      "z=0, y=1120, x=0\n",
      "z=0, y=1120, x=160\n",
      "z=0, y=1120, x=320\n",
      "z=0, y=1120, x=480\n",
      "z=0, y=1120, x=640\n",
      "z=0, y=1120, x=800\n",
      "z=0, y=1120, x=960\n",
      "z=0, y=1120, x=1120\n",
      "z=16, y=0, x=0\n",
      "z=16, y=0, x=160\n",
      "z=16, y=0, x=320\n",
      "z=16, y=0, x=480\n",
      "z=16, y=0, x=640\n",
      "z=16, y=0, x=800\n",
      "z=16, y=0, x=960\n",
      "z=16, y=0, x=1120\n",
      "z=16, y=160, x=0\n",
      "z=16, y=160, x=160\n",
      "z=16, y=160, x=320\n",
      "z=16, y=160, x=480\n",
      "z=16, y=160, x=640\n",
      "z=16, y=160, x=800\n",
      "z=16, y=160, x=960\n",
      "z=16, y=160, x=1120\n",
      "z=16, y=320, x=0\n",
      "z=16, y=320, x=160\n",
      "z=16, y=320, x=320\n",
      "z=16, y=320, x=480\n",
      "z=16, y=320, x=640\n",
      "z=16, y=320, x=800\n",
      "z=16, y=320, x=960\n",
      "z=16, y=320, x=1120\n",
      "z=16, y=480, x=0\n",
      "z=16, y=480, x=160\n",
      "z=16, y=480, x=320\n",
      "z=16, y=480, x=480\n",
      "z=16, y=480, x=640\n",
      "z=16, y=480, x=800\n",
      "z=16, y=480, x=960\n",
      "z=16, y=480, x=1120\n",
      "z=16, y=640, x=0\n",
      "z=16, y=640, x=160\n",
      "z=16, y=640, x=320\n",
      "z=16, y=640, x=480\n",
      "z=16, y=640, x=640\n",
      "z=16, y=640, x=800\n",
      "z=16, y=640, x=960\n",
      "z=16, y=640, x=1120\n",
      "z=16, y=800, x=0\n",
      "z=16, y=800, x=160\n",
      "z=16, y=800, x=320\n",
      "z=16, y=800, x=480\n",
      "z=16, y=800, x=640\n",
      "z=16, y=800, x=800\n",
      "z=16, y=800, x=960\n",
      "z=16, y=800, x=1120\n",
      "z=16, y=960, x=0\n",
      "z=16, y=960, x=160\n",
      "z=16, y=960, x=320\n",
      "z=16, y=960, x=480\n",
      "z=16, y=960, x=640\n",
      "z=16, y=960, x=800\n",
      "z=16, y=960, x=960\n",
      "z=16, y=960, x=1120\n",
      "z=16, y=1120, x=0\n",
      "z=16, y=1120, x=160\n",
      "z=16, y=1120, x=320\n",
      "z=16, y=1120, x=480\n",
      "z=16, y=1120, x=640\n",
      "z=16, y=1120, x=800\n",
      "z=16, y=1120, x=960\n",
      "z=16, y=1120, x=1120\n",
      "(24, 1249, 1249)\n",
      "Begin segmentation\n",
      "Segmentation complete\n",
      "Performing foreground-restriction\n",
      "Finding overlap matrix...\n",
      "Completed in 7.550113 seconds\n",
      "Calculating Rand F-Score...\n",
      "Completed in 0.187032 seconds\n",
      "VD2D-3D\n",
      "Pixel Error: 0.097363\n",
      "Rand - Full: 0.845614\n",
      "Rand - Merge: 0.929446\n",
      "Rand - Split: 0.775653\n"
     ]
    }
   ],
   "source": [
    "# Compute metrics on the validation set\n",
    "val_inputs, val_labels, val_target = dset_sampler.get_validation_set()\n",
    "preds, p_error, rand_full, rand_merge, rand_split = get_metrics(pipeline, classifier, val_inputs, val_labels, val_target)\n",
    "print_and_save_metrics('VD2D-3D', df_cremi_b, p_error, rand_full, rand_merge, rand_split)"
   ]
  },
  {
   "cell_type": "markdown",
   "metadata": {},
   "source": [
    "### Cremi B unaligned, U-Net 3D"
   ]
  },
  {
   "cell_type": "code",
   "execution_count": 27,
   "metadata": {
    "collapsed": true
   },
   "outputs": [],
   "source": [
    "tf.reset_default_graph()"
   ]
  },
  {
   "cell_type": "code",
   "execution_count": 28,
   "metadata": {
    "collapsed": true
   },
   "outputs": [],
   "source": [
    "pipeline = com.PipelineConfig(\n",
    "    data_path=dataset_folder + '/cremi/b/',\n",
    "    dataset_constructor=dat.CREMIDataset,\n",
    "    model_constructor=mod.UNet,\n",
    "    augmentation_config=com.AugmentationConfig(\n",
    "        apply_mirroring=True, \n",
    "        apply_flipping=True, \n",
    "        apply_rotation=True, \n",
    "        apply_blur=True\n",
    "    ),\n",
    "    model_arch=mod.UNET_3D_4LAYERS,\n",
    "    training_params=com.TrainingParams(\n",
    "        optimizer=tf.train.AdamOptimizer,\n",
    "        learning_rate=0.0001,\n",
    "        n_iterations=30000,\n",
    "        patch_shape=(16, 160, 160),\n",
    "        batch_size=1\n",
    "    ),\n",
    "    inference_params=com.InferenceParams(\n",
    "        patch_shape=(16, 160, 160)\n",
    "    ),\n",
    "    pipeline_name='unet-3d-4layers'\n",
    ")"
   ]
  },
  {
   "cell_type": "code",
   "execution_count": 29,
   "metadata": {},
   "outputs": [
    {
     "name": "stdout",
     "output_type": "stream",
     "text": [
      "INFO:tensorflow:Restoring parameters from ./../../../datasets//cremi/b/results/unet_3d_4layers/run-1/model.ckpt\n",
      "Model restored.\n"
     ]
    }
   ],
   "source": [
    "# classifier, dset_sampler = run_full_training(pipeline, run_name='1')\n",
    "classifier, dset_sampler = load_classifier(pipeline, run_name='1')"
   ]
  },
  {
   "cell_type": "code",
   "execution_count": 30,
   "metadata": {},
   "outputs": [
    {
     "name": "stdout",
     "output_type": "stream",
     "text": [
      "z: 0/24\n",
      "y: 0/1249\n",
      "y: 150/1249\n",
      "y: 300/1249\n",
      "y: 450/1249\n",
      "y: 600/1249\n",
      "y: 750/1249\n",
      "y: 900/1249\n",
      "y: 1050/1249\n",
      "y: 1089/1249\n",
      "z: 8/24\n",
      "y: 0/1249\n",
      "y: 150/1249\n",
      "y: 300/1249\n",
      "y: 450/1249\n",
      "y: 600/1249\n",
      "y: 750/1249\n",
      "y: 900/1249\n",
      "y: 1050/1249\n",
      "y: 1089/1249\n",
      "(24, 1249, 1249)\n",
      "Begin segmentation\n",
      "Segmentation complete\n",
      "Performing foreground-restriction\n",
      "Finding overlap matrix...\n",
      "Completed in 7.672391 seconds\n",
      "Calculating Rand F-Score...\n",
      "Completed in 0.030734 seconds\n",
      "UVR-Net\n",
      "Pixel Error: 0.037926\n",
      "Rand - Full: 0.846339\n",
      "Rand - Merge: 0.933393\n",
      "Rand - Split: 0.774138\n"
     ]
    }
   ],
   "source": [
    "# Compute metrics on the validation set\n",
    "val_inputs, val_labels, val_target = dset_sampler.get_validation_set()\n",
    "preds, p_error, rand_full, rand_merge, rand_split = get_metrics(pipeline, classifier, val_inputs, val_labels, val_target)\n",
    "print_and_save_metrics('UVR-Net', df_cremi_b, p_error, rand_full, rand_merge, rand_split)"
   ]
  },
  {
   "cell_type": "markdown",
   "metadata": {},
   "source": [
    "### Cremi C unaligned, VD2D-3D"
   ]
  },
  {
   "cell_type": "code",
   "execution_count": 31,
   "metadata": {
    "collapsed": true
   },
   "outputs": [],
   "source": [
    "tf.reset_default_graph()"
   ]
  },
  {
   "cell_type": "code",
   "execution_count": 32,
   "metadata": {
    "collapsed": true
   },
   "outputs": [],
   "source": [
    "pipeline = com.PipelineConfig(\n",
    "    data_path=dataset_folder + '/cremi/c/',\n",
    "    dataset_constructor=dat.CREMIDataset,\n",
    "    model_constructor=mod.ConvNet,\n",
    "    augmentation_config=com.AugmentationConfig(\n",
    "        apply_mirroring=True, \n",
    "        apply_flipping=True, \n",
    "        apply_rotation=True, \n",
    "        apply_blur=True\n",
    "    ),\n",
    "    model_arch=mod.VD2D_3D,\n",
    "    training_params=com.TrainingParams(\n",
    "        optimizer=tf.train.AdamOptimizer,\n",
    "        learning_rate=0.0001,\n",
    "        n_iterations=30000,\n",
    "        patch_shape=(16, 160, 160),\n",
    "        batch_size=1\n",
    "    ),\n",
    "    inference_params=com.InferenceParams(\n",
    "        patch_shape=(16, 160, 160)\n",
    "    ),\n",
    "    pipeline_name='vd2d-3d'\n",
    ")"
   ]
  },
  {
   "cell_type": "code",
   "execution_count": 33,
   "metadata": {},
   "outputs": [
    {
     "name": "stdout",
     "output_type": "stream",
     "text": [
      "INFO:tensorflow:Restoring parameters from ./../../../datasets//cremi/c/results/vd2d_3d/run-1/model.ckpt\n",
      "Model restored.\n"
     ]
    }
   ],
   "source": [
    "# classifier, dset_sampler = run_full_training(pipeline, run_name='1')\n",
    "classifier, dset_sampler = load_classifier(pipeline, run_name='1')"
   ]
  },
  {
   "cell_type": "code",
   "execution_count": 34,
   "metadata": {},
   "outputs": [
    {
     "name": "stdout",
     "output_type": "stream",
     "text": [
      "z=0, y=0, x=0\n",
      "z=0, y=0, x=160\n",
      "z=0, y=0, x=320\n",
      "z=0, y=0, x=480\n",
      "z=0, y=0, x=640\n",
      "z=0, y=0, x=800\n",
      "z=0, y=0, x=960\n",
      "z=0, y=0, x=1120\n",
      "z=0, y=160, x=0\n",
      "z=0, y=160, x=160\n",
      "z=0, y=160, x=320\n",
      "z=0, y=160, x=480\n",
      "z=0, y=160, x=640\n",
      "z=0, y=160, x=800\n",
      "z=0, y=160, x=960\n",
      "z=0, y=160, x=1120\n",
      "z=0, y=320, x=0\n",
      "z=0, y=320, x=160\n",
      "z=0, y=320, x=320\n",
      "z=0, y=320, x=480\n",
      "z=0, y=320, x=640\n",
      "z=0, y=320, x=800\n",
      "z=0, y=320, x=960\n",
      "z=0, y=320, x=1120\n",
      "z=0, y=480, x=0\n",
      "z=0, y=480, x=160\n",
      "z=0, y=480, x=320\n",
      "z=0, y=480, x=480\n",
      "z=0, y=480, x=640\n",
      "z=0, y=480, x=800\n",
      "z=0, y=480, x=960\n",
      "z=0, y=480, x=1120\n",
      "z=0, y=640, x=0\n",
      "z=0, y=640, x=160\n",
      "z=0, y=640, x=320\n",
      "z=0, y=640, x=480\n",
      "z=0, y=640, x=640\n",
      "z=0, y=640, x=800\n",
      "z=0, y=640, x=960\n",
      "z=0, y=640, x=1120\n",
      "z=0, y=800, x=0\n",
      "z=0, y=800, x=160\n",
      "z=0, y=800, x=320\n",
      "z=0, y=800, x=480\n",
      "z=0, y=800, x=640\n",
      "z=0, y=800, x=800\n",
      "z=0, y=800, x=960\n",
      "z=0, y=800, x=1120\n",
      "z=0, y=960, x=0\n",
      "z=0, y=960, x=160\n",
      "z=0, y=960, x=320\n",
      "z=0, y=960, x=480\n",
      "z=0, y=960, x=640\n",
      "z=0, y=960, x=800\n",
      "z=0, y=960, x=960\n",
      "z=0, y=960, x=1120\n",
      "z=0, y=1120, x=0\n",
      "z=0, y=1120, x=160\n",
      "z=0, y=1120, x=320\n",
      "z=0, y=1120, x=480\n",
      "z=0, y=1120, x=640\n",
      "z=0, y=1120, x=800\n",
      "z=0, y=1120, x=960\n",
      "z=0, y=1120, x=1120\n",
      "z=16, y=0, x=0\n",
      "z=16, y=0, x=160\n",
      "z=16, y=0, x=320\n",
      "z=16, y=0, x=480\n",
      "z=16, y=0, x=640\n",
      "z=16, y=0, x=800\n",
      "z=16, y=0, x=960\n",
      "z=16, y=0, x=1120\n",
      "z=16, y=160, x=0\n",
      "z=16, y=160, x=160\n",
      "z=16, y=160, x=320\n",
      "z=16, y=160, x=480\n",
      "z=16, y=160, x=640\n",
      "z=16, y=160, x=800\n",
      "z=16, y=160, x=960\n",
      "z=16, y=160, x=1120\n",
      "z=16, y=320, x=0\n",
      "z=16, y=320, x=160\n",
      "z=16, y=320, x=320\n",
      "z=16, y=320, x=480\n",
      "z=16, y=320, x=640\n",
      "z=16, y=320, x=800\n",
      "z=16, y=320, x=960\n",
      "z=16, y=320, x=1120\n",
      "z=16, y=480, x=0\n",
      "z=16, y=480, x=160\n",
      "z=16, y=480, x=320\n",
      "z=16, y=480, x=480\n",
      "z=16, y=480, x=640\n",
      "z=16, y=480, x=800\n",
      "z=16, y=480, x=960\n",
      "z=16, y=480, x=1120\n",
      "z=16, y=640, x=0\n",
      "z=16, y=640, x=160\n",
      "z=16, y=640, x=320\n",
      "z=16, y=640, x=480\n",
      "z=16, y=640, x=640\n",
      "z=16, y=640, x=800\n",
      "z=16, y=640, x=960\n",
      "z=16, y=640, x=1120\n",
      "z=16, y=800, x=0\n",
      "z=16, y=800, x=160\n",
      "z=16, y=800, x=320\n",
      "z=16, y=800, x=480\n",
      "z=16, y=800, x=640\n",
      "z=16, y=800, x=800\n",
      "z=16, y=800, x=960\n",
      "z=16, y=800, x=1120\n",
      "z=16, y=960, x=0\n",
      "z=16, y=960, x=160\n",
      "z=16, y=960, x=320\n",
      "z=16, y=960, x=480\n",
      "z=16, y=960, x=640\n",
      "z=16, y=960, x=800\n",
      "z=16, y=960, x=960\n",
      "z=16, y=960, x=1120\n",
      "z=16, y=1120, x=0\n",
      "z=16, y=1120, x=160\n",
      "z=16, y=1120, x=320\n",
      "z=16, y=1120, x=480\n",
      "z=16, y=1120, x=640\n",
      "z=16, y=1120, x=800\n",
      "z=16, y=1120, x=960\n",
      "z=16, y=1120, x=1120\n",
      "(24, 1249, 1249)\n",
      "Begin segmentation\n",
      "Segmentation complete\n",
      "Performing foreground-restriction\n",
      "Finding overlap matrix...\n",
      "Completed in 10.523134 seconds\n",
      "Calculating Rand F-Score...\n",
      "Completed in 0.225889 seconds\n",
      "VD2D-3D\n",
      "Pixel Error: 0.118170\n",
      "Rand - Full: 0.002831\n",
      "Rand - Merge: 0.919090\n",
      "Rand - Split: 0.001418\n"
     ]
    }
   ],
   "source": [
    "# Compute metrics on the validation set\n",
    "val_inputs, val_labels, val_target = dset_sampler.get_validation_set()\n",
    "preds, p_error, rand_full, rand_merge, rand_split = get_metrics(pipeline, classifier, val_inputs, val_labels, val_target)\n",
    "print_and_save_metrics('VD2D-3D', df_cremi_c, p_error, rand_full, rand_merge, rand_split)"
   ]
  },
  {
   "cell_type": "markdown",
   "metadata": {},
   "source": [
    "### Cremi C unaligned, U-Net 3D"
   ]
  },
  {
   "cell_type": "code",
   "execution_count": 49,
   "metadata": {
    "collapsed": true
   },
   "outputs": [],
   "source": [
    "tf.reset_default_graph()"
   ]
  },
  {
   "cell_type": "code",
   "execution_count": 50,
   "metadata": {
    "collapsed": true
   },
   "outputs": [],
   "source": [
    "pipeline = com.PipelineConfig(\n",
    "    data_path=dataset_folder + '/cremi/c/',\n",
    "    dataset_constructor=dat.CREMIDataset,\n",
    "    model_constructor=mod.UNet,\n",
    "    augmentation_config=com.AugmentationConfig(\n",
    "        apply_mirroring=True, \n",
    "        apply_flipping=True, \n",
    "        apply_rotation=True, \n",
    "        apply_blur=True\n",
    "    ),\n",
    "    model_arch=mod.UNET_3D_4LAYERS,\n",
    "    training_params=com.TrainingParams(\n",
    "        optimizer=tf.train.AdamOptimizer,\n",
    "        learning_rate=0.0001,\n",
    "        n_iterations=30000,\n",
    "        patch_shape=(16, 160, 160),\n",
    "        batch_size=1\n",
    "    ),\n",
    "    inference_params=com.InferenceParams(\n",
    "        patch_shape=(16, 160, 160)\n",
    "    ),\n",
    "    pipeline_name='unet-3d-4layers'\n",
    ")"
   ]
  },
  {
   "cell_type": "code",
   "execution_count": 51,
   "metadata": {},
   "outputs": [
    {
     "name": "stdout",
     "output_type": "stream",
     "text": [
      "INFO:tensorflow:Restoring parameters from ./../../../datasets//cremi/c/results/unet_3d_4layers/run-1/model.ckpt\n",
      "Model restored.\n"
     ]
    }
   ],
   "source": [
    "# classifier, dset_sampler = run_full_training(pipeline, run_name='1')\n",
    "classifier, dset_sampler = load_classifier(pipeline, run_name='1')"
   ]
  },
  {
   "cell_type": "code",
   "execution_count": 52,
   "metadata": {},
   "outputs": [
    {
     "name": "stdout",
     "output_type": "stream",
     "text": [
      "z: 0/24\n",
      "y: 0/1249\n",
      "y: 150/1249\n",
      "y: 300/1249\n",
      "y: 450/1249\n",
      "y: 600/1249\n",
      "y: 750/1249\n",
      "y: 900/1249\n",
      "y: 1050/1249\n",
      "y: 1089/1249\n",
      "z: 8/24\n",
      "y: 0/1249\n",
      "y: 150/1249\n",
      "y: 300/1249\n",
      "y: 450/1249\n",
      "y: 600/1249\n",
      "y: 750/1249\n",
      "y: 900/1249\n",
      "y: 1050/1249\n",
      "y: 1089/1249\n",
      "(24, 1249, 1249)\n",
      "Begin segmentation\n",
      "Segmentation complete\n",
      "Performing foreground-restriction\n",
      "Finding overlap matrix...\n",
      "Completed in 7.773133 seconds\n",
      "Calculating Rand F-Score...\n",
      "Completed in 0.031238 seconds\n",
      "UVR-Net\n",
      "Pixel Error: 0.041922\n",
      "Rand - Full: 0.748079\n",
      "Rand - Merge: 0.933252\n",
      "Rand - Split: 0.624223\n"
     ]
    }
   ],
   "source": [
    "# Compute metrics on the validation set\n",
    "val_inputs, val_labels, val_target = dset_sampler.get_validation_set()\n",
    "preds, p_error, rand_full, rand_merge, rand_split = get_metrics(pipeline, classifier, val_inputs, val_labels, val_target)\n",
    "print_and_save_metrics('UVR-Net', df_cremi_c, p_error, rand_full, rand_merge, rand_split)"
   ]
  },
  {
   "cell_type": "code",
   "execution_count": 53,
   "metadata": {
    "collapsed": true
   },
   "outputs": [],
   "source": [
    "with open('./../tex/tables/3d_snemi_results.tex', 'w') as latex_file:\n",
    "    latex_file.write(df_snemi.to_latex(bold_rows=True))\n",
    "with open('./../tex/tables/3d_cremi_a_results.tex', 'w') as latex_file:\n",
    "    latex_file.write(df_cremi_a.to_latex(bold_rows=True))\n",
    "with open('./../tex/tables/3d_cremi_b_results.tex', 'w') as latex_file:\n",
    "    latex_file.write(df_cremi_b.to_latex(bold_rows=True))\n",
    "with open('./../tex/tables/3d_cremi_c_results.tex', 'w') as latex_file:\n",
    "    latex_file.write(df_cremi_c.to_latex(bold_rows=True))"
   ]
  },
  {
   "cell_type": "code",
   "execution_count": null,
   "metadata": {
    "collapsed": true
   },
   "outputs": [],
   "source": []
  }
 ],
 "metadata": {
  "kernelspec": {
   "display_name": "Python 2",
   "language": "python",
   "name": "python2"
  },
  "language_info": {
   "codemirror_mode": {
    "name": "ipython",
    "version": 2
   },
   "file_extension": ".py",
   "mimetype": "text/x-python",
   "name": "python",
   "nbconvert_exporter": "python",
   "pygments_lexer": "ipython2",
   "version": "2.7.12"
  }
 },
 "nbformat": 4,
 "nbformat_minor": 1
}
